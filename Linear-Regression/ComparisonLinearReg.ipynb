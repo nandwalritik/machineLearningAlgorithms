{
 "cells": [
  {
   "cell_type": "markdown",
   "metadata": {},
   "source": [
    "# Own Implementation"
   ]
  },
  {
   "cell_type": "code",
   "execution_count": 1,
   "metadata": {},
   "outputs": [],
   "source": [
    "import LinearRegression as LR\n",
    "import numpy as np "
   ]
  },
  {
   "cell_type": "code",
   "execution_count": 2,
   "metadata": {},
   "outputs": [],
   "source": [
    "def normalize(X):\n",
    "\treturn (X - np.mean(X,axis=0))/np.std(X,axis=0)"
   ]
  },
  {
   "cell_type": "code",
   "execution_count": 3,
   "metadata": {},
   "outputs": [],
   "source": [
    "data = np.loadtxt('data.txt',dtype=float,delimiter=',')\n",
    "size = data.shape[0]\n",
    "\n",
    "X,Y = data[:,0:2],data[:,-1]\n",
    "X = normalize(X)"
   ]
  },
  {
   "cell_type": "code",
   "execution_count": 4,
   "metadata": {},
   "outputs": [],
   "source": [
    "testSize    = (int)(0.3*size)\n",
    "trainSize   = size - testSize \n",
    "\n",
    "X_train,X_test,y_train,y_test = X[:trainSize],X[trainSize:],Y[:trainSize],Y[trainSize:]"
   ]
  },
  {
   "cell_type": "code",
   "execution_count": 8,
   "metadata": {},
   "outputs": [
    {
     "name": "stdout",
     "output_type": "stream",
     "text": [
      "Accuracy of model   \t94.38037991463509\n",
      "Coeficients\t\t[112649.01677636   4545.01486929]\n",
      "intercept Term\t\t345721.7055418073\n"
     ]
    }
   ],
   "source": [
    "train = LR.LinearRegression()\n",
    "train.setter(X_train,y_train)\n",
    "\n",
    "test  = LR.LinearRegression()\n",
    "test.setter(X_test,y_test)\n",
    "train.gradientDescent()\n",
    "print(\"Accuracy of model   \t\"+str(train.accuracy(test)))\n",
    "print(\"Coeficients\t\t\"+str(train.coef_()[0]))\n",
    "print(\"intercept Term\t\t\"+str(train.intercept()[0]))"
   ]
  },
  {
   "cell_type": "markdown",
   "metadata": {},
   "source": [
    "# Scikit Learn Implementation"
   ]
  },
  {
   "cell_type": "code",
   "execution_count": 9,
   "metadata": {},
   "outputs": [
    {
     "name": "stdout",
     "output_type": "stream",
     "text": [
      "Using scikit Learn :-\n",
      "Accuracy of Model    94.38237473812713\n",
      "Coeficients          [112662.15899596   4533.16809981]\n",
      "Intercept Term\t\t345720.174784822\n"
     ]
    }
   ],
   "source": [
    "from sklearn.linear_model import LinearRegression\n",
    "regressor = LinearRegression()\n",
    "regressor.fit(X_train,y_train)\n",
    "y_pred\t  =   regressor.predict(X_test)\n",
    "\n",
    "error = 100*((y_pred-y_test)/y_test)\n",
    "print(\"Using scikit Learn :-\")\n",
    "print(\"Accuracy of Model    \"+str(100-np.abs(np.mean(error))))\n",
    "print(\"Coeficients          \"+str(regressor.coef_))\n",
    "print(\"Intercept Term\t\t\"+str(regressor.intercept_))"
   ]
  },
  {
   "cell_type": "code",
   "execution_count": null,
   "metadata": {},
   "outputs": [],
   "source": []
  }
 ],
 "metadata": {
  "kernelspec": {
   "display_name": "Python 3",
   "language": "python",
   "name": "python3"
  },
  "language_info": {
   "codemirror_mode": {
    "name": "ipython",
    "version": 3
   },
   "file_extension": ".py",
   "mimetype": "text/x-python",
   "name": "python",
   "nbconvert_exporter": "python",
   "pygments_lexer": "ipython3",
   "version": "3.7.3"
  }
 },
 "nbformat": 4,
 "nbformat_minor": 2
}
